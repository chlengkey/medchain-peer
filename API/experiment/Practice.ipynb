{
 "cells": [
  {
   "cell_type": "code",
   "execution_count": 1,
   "id": "08624ddd",
   "metadata": {},
   "outputs": [
    {
     "name": "stdout",
     "output_type": "stream",
     "text": [
      "Hello Olek\n"
     ]
    }
   ],
   "source": [
    "print (\"Hello Olek\")"
   ]
  },
  {
   "cell_type": "code",
   "execution_count": 4,
   "id": "32d7ad15",
   "metadata": {},
   "outputs": [],
   "source": [
    "if 5 > 10:\n",
    "    print(\"five is grater than two\")"
   ]
  },
  {
   "cell_type": "code",
   "execution_count": 14,
   "id": "dd63226e",
   "metadata": {},
   "outputs": [
    {
     "name": "stdout",
     "output_type": "stream",
     "text": [
      "Hasil dari a * b = 95\n"
     ]
    }
   ],
   "source": [
    "a = 5\n",
    "b = 19\n",
    "c = a * b\n",
    "d = (\"Hasil dari a * b = \") + str (c) \n",
    "print (d)"
   ]
  },
  {
   "cell_type": "code",
   "execution_count": 17,
   "id": "b5135bb5",
   "metadata": {},
   "outputs": [
    {
     "name": "stdout",
     "output_type": "stream",
     "text": [
      "1 5 9\n"
     ]
    }
   ],
   "source": [
    "x, y, z = 1, 5, 9\n",
    "print (x, y, z)"
   ]
  },
  {
   "cell_type": "code",
   "execution_count": 22,
   "id": "fce333ca",
   "metadata": {},
   "outputs": [
    {
     "name": "stdout",
     "output_type": "stream",
     "text": [
      "eon ira cleyra\n"
     ]
    }
   ],
   "source": [
    "olek = [\"eon\", \"ira\", \"cleyra\"]\n",
    "x, y, z = olek\n",
    "print (x, y, z)"
   ]
  },
  {
   "cell_type": "code",
   "execution_count": 29,
   "id": "1155f31b",
   "metadata": {},
   "outputs": [
    {
     "name": "stdout",
     "output_type": "stream",
     "text": [
      "34\n",
      "-24\n",
      "145\n",
      "0.1724137931034483\n",
      "11\n",
      "9\n",
      "10\n",
      "10.0\n",
      "12\n",
      "0\n",
      "36\n",
      "1.0\n",
      "27\n",
      "5\n",
      "176\n",
      "1.4545454545454546\n",
      "33\n",
      "1\n",
      "272\n",
      "1.0625\n"
     ]
    }
   ],
   "source": [
    "def calculator(x, y):\n",
    "    print (x + y)\n",
    "    print (x - y)\n",
    "    print (x * y)\n",
    "    print (x / y)\n",
    "    \n",
    "calculator(5, 29)\n",
    "calculator(10, 1)\n",
    "calculator(6, 6)\n",
    "calculator(16, 11)\n",
    "calculator(17, 16)"
   ]
  },
  {
   "cell_type": "code",
   "execution_count": null,
   "id": "ea0887e6",
   "metadata": {},
   "outputs": [],
   "source": []
  }
 ],
 "metadata": {
  "kernelspec": {
   "display_name": "Python 3",
   "language": "python",
   "name": "python3"
  },
  "language_info": {
   "codemirror_mode": {
    "name": "ipython",
    "version": 3
   },
   "file_extension": ".py",
   "mimetype": "text/x-python",
   "name": "python",
   "nbconvert_exporter": "python",
   "pygments_lexer": "ipython3",
   "version": "3.8.5"
  }
 },
 "nbformat": 4,
 "nbformat_minor": 5
}
